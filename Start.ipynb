{
 "cells": [
  {
   "cell_type": "markdown",
   "id": "cf671689",
   "metadata": {},
   "source": [
    "<table width=\"100%\"><tr style=\"background-color:white;\">\n",
    "    <td style=\"text-align:left;padding:0px;width:142px'\">\n",
    "        <a href=\"https://gdsc.community.dev/pakistan-institute-of-engineering-applied-sciences-pieas/\" target=\"_blank\">\n",
    "            <img src=\"img/GDSC PIEAS vertical color.png\"></a></td>\n",
    "    <td width=\"*\">&nbsp;&nbsp;&nbsp;&nbsp;&nbsp;&nbsp;</td>\n",
    "    <!-- ############################################# -->\n",
    "    <td style=\"padding:0px;width:142px;\">\n",
    "        <img align=\"right\" src=\"img/follow_us.png\" height=\"40px\"></td>\n",
    "     <td width=\"*\">&nbsp;&nbsp;&nbsp;&nbsp;&nbsp;&nbsp;</td>\n",
    "    <td style=\"text-align:left;padding:0px;width:142px'\">\n",
    "        <a href=\"https://qworld.net/qpakistan/\" target=\"_blank\">\n",
    "            <img src=\"img/logo_08-removebg-preview.png\"></a></td>\n",
    "    <td width=\"*\">&nbsp;&nbsp;&nbsp;&nbsp;&nbsp;&nbsp;</td>\n",
    "    <!-- ############################################# -->\n",
    "</tr></table>"
   ]
  },
  {
   "cell_type": "markdown",
   "id": "6e5ec1aa",
   "metadata": {},
   "source": [
    "<table>\n",
    "<tr>\n",
    "    <td width=\"*\">&nbsp;&nbsp;&nbsp;&nbsp;&nbsp;&nbsp;</td>\n",
    "    <td style=\"padding:0px;width:40px;\">\n",
    "        <a href=\"https://twitter.com\" target=\"_blank\">\n",
    "        <img align=\"right\" src=\"img/Twitter.png\" width=\"40px\"></a> </td>\n",
    "    <td style=\"padding:0px;width:5px;\"></td>\n",
    "    <td width=\"*\">&nbsp;&nbsp;&nbsp;&nbsp;&nbsp;&nbsp;</td>\n",
    "    <td style=\"padding:0px;width:40px;\">\n",
    "        <a href=\"https://www.facebook.com/gdscpieas\" target=\"_blank\">\n",
    "        <img align=\"right\" src=\"img/Fb.png\"></a></td>\n",
    "    <td style=\"padding:0px;width:5px;\"></td>\n",
    "    <td width=\"*\">&nbsp;&nbsp;&nbsp;&nbsp;&nbsp;&nbsp;</td>\n",
    "    <td style=\"padding:0px;width:40px;\">\n",
    "        <a href=\"https://www.linkedin.com/company/gdscpieas/\" target=\"_blank\">\n",
    "        <img align=\"right\" src=\"img/LinkedIn.png\"></a></td>\n",
    "    <td style=\"padding:0px;width:5px;\"></td>\n",
    "    <td width=\"*\">&nbsp;&nbsp;&nbsp;&nbsp;&nbsp;&nbsp;</td>\n",
    "    </tr>\n",
    "</table>"
   ]
  },
  {
   "cell_type": "markdown",
   "id": "3f51e9f4",
   "metadata": {},
   "source": [
    "<h1 align=\"left\" style=\"color: #cd7f32;\"> Contents </h1>"
   ]
  },
  {
   "cell_type": "markdown",
   "id": "1664d82f",
   "metadata": {},
   "source": [
    "<h5 align=\"left\" style=\"color: #cd7f32;\"> What we will Go through: </h5>"
   ]
  },
  {
   "cell_type": "markdown",
   "id": "141d4d91",
   "metadata": {},
   "source": [
    "<h1 align=\"center\" style=\"color: #cd7f32;\"> <mark>Part 1: Basics You need! </mark></h1>"
   ]
  },
  {
   "cell_type": "markdown",
   "id": "d56a1666",
   "metadata": {},
   "source": [
    "\n",
    "### Python\n",
    "\n",
    "[Slides](#) &nbsp;|&nbsp;\n",
    "[Variables](python/Python08_Basics_Variables.ipynb) &nbsp;|&nbsp;\n",
    "[Loops](python/Python12_Basics_Loops.ipynb) &nbsp;|&nbsp;\n",
    "[Conditionals](python/Python16_Basics_Conditionals.ipynb) &nbsp;|&nbsp;\n",
    "[Lists](python/Python20_Basics_Lists.ipynb) &nbsp;|&nbsp;\n",
    "[Python Reference](python/Python04_Quick_Reference.ipynb) &nbsp;|&nbsp;\n",
    "[Drawing Reference](python/Python06_Drawing.ipynb)\n"
   ]
  },
  {
   "cell_type": "markdown",
   "id": "0a31c1fb",
   "metadata": {},
   "source": [
    "<h1 align=\"center\" style=\"color: #cd7f32;\"> <mark>Part 2: Some math and fun! </mark></h1>"
   ]
  },
  {
   "cell_type": "markdown",
   "id": "8cdb8186",
   "metadata": {},
   "source": [
    "\n",
    "### Basics of classical systems\n",
    "\n",
    "[A bit History](#)  &nbsp;|&nbsp;\n",
    "[One Bit](classical-systems/CS04_One_Bit.ipynb)  &nbsp;|&nbsp;\n",
    "[Coin Flipping](classical-systems/CS08_Coin_Flip.ipynb)  &nbsp;|&nbsp;\n",
    "[Coin Flipping Game](classical-systems/CS12_Coin_Flip_Game.ipynb)  &nbsp;|&nbsp;\n",
    "[Probabilistic States](classical-systems/CS16_Probabilistic_States.ipynb)  &nbsp;|&nbsp;\n",
    "[Probabilistic Operators](classical-systems/CS20_Probabilistic_Operators.ipynb) &nbsp;|&nbsp;\n",
    "[Two Probabilistic Bits](classical-systems/CS24_Two_Probabilistic_Bits.ipynb)\n",
    "\n",
    "[Exercises](classical-systems/Exercises_Probabilistic_Systems.ipynb) &nbsp;|&nbsp;\n",
    "[Problem Set](classical-systems/Problems_Probabilistic_Systems.ipynb)  &nbsp;|&nbsp;\n",
    "[_Correlation (advance)_](classical-systems/CS28_Correlation.ipynb)  &nbsp;|&nbsp;\n",
    "[_Operators on Multiple Bits (advance)_](classical-systems/CS40_Operators_on_Multiple_Bits.ipynb) \n",
    "\n",
    "### Photons\n",
    "\n",
    "[Quantum Coin Flipping](photon/Photon20_Quantum_Coin_Flipping.ipynb)"
   ]
  },
  {
   "cell_type": "markdown",
   "id": "f8ad991c",
   "metadata": {},
   "source": [
    "<h1 align=\"center\" style=\"color: #cd7f32;\"> <mark>Part 3: From Classic To Quantum! </mark></h1>"
   ]
  },
  {
   "cell_type": "markdown",
   "id": "05ddb019",
   "metadata": {},
   "source": [
    "### Qiskit basics\n",
    "\n",
    "[Qiskit installation and test](quantum-with-qiskit/Q04_Qiskit_installation_and_test.ipynb) &nbsp;|&nbsp;\n",
    "[First Quantum Programs with Qiskit](quantum-with-qiskit/Q12_First_Quantum_Programs_with_Qiskit.ipynb) &nbsp;|&nbsp;\n",
    "[Qiskit Reference](quantum-with-qiskit/Q01_Qiskit_Reference.ipynb)\n",
    "\n",
    "### Basics of quantum systems\n",
    "\n",
    "[Hadamard Operator](quantum-with-qiskit/Q20_Hadamard.ipynb) &nbsp;|&nbsp;\n",
    "[One Qubit](quantum-with-qiskit/Q24_One_Qubit.ipynb) &nbsp;|&nbsp;\n",
    "[Quantum State](quantum-with-qiskit/Q28_Quantum_State.ipynb) &nbsp;|&nbsp;\n",
    "[Visualization of a (Real-Valued) Qubit](quantum-with-qiskit/Q32_Visualization_of_a_Qubit.ipynb) &nbsp;|&nbsp;\n",
    "[Superposition and Measurement](quantum-with-qiskit/Q36_Superposition_and_Measurement.ipynb) &nbsp;|&nbsp;\n",
    "[Exercises](quantum-with-qiskit/Exercises_Basics_of_Quantum_Systems.ipynb)\n",
    "\n",
    "### Quantum operators on a (real-valued) qubit\n",
    "\n",
    "[Operations on the Unit Circle](quantum-with-qiskit/Q40_Operations_on_the_Unit_Circle.ipynb) &nbsp;|&nbsp;\n",
    "[Rotations](quantum-with-qiskit/Q44_Rotations.ipynb) &nbsp;|&nbsp;\n",
    "[Reflections](quantum-with-qiskit/Q48_Reflections.ipynb) &nbsp;|&nbsp; \n",
    "[Quantum Tomography](quantum-with-qiskit/Q52_Quantum_Tomography.ipynb) &nbsp;|&nbsp;\n",
    "[Exercises](quantum-with-qiskit/Exercises_Quantum_Operators_on_a_Real-Valued_Qubit.ipynb)\n",
    "\n",
    "###  Why Quantum and It's Applications\n",
    "\n",
    "[Drugs and Medicine](#) &nbsp;|&nbsp;\n",
    "[Computaional World](#) &nbsp;|&nbsp;\n",
    "[Cybersecurity](#) &nbsp;|&nbsp; \n",
    "[Business Problems](#) &nbsp;|&nbsp;"
   ]
  },
  {
   "cell_type": "markdown",
   "id": "8b31a82b",
   "metadata": {},
   "source": [
    "<h1 align=\"center\" style=\"color: #cd7f32;\"> <mark>Part 4: Real Quantum (advanced)! </mark></h1>"
   ]
  },
  {
   "cell_type": "markdown",
   "id": "c930f877",
   "metadata": {},
   "source": [
    "### Entanglement and protocols\n",
    "\n",
    "[Two Qubits](quantum-with-qiskit/Q60_Two_Qubits.ipynb) &nbsp;|&nbsp;\n",
    "[Phase Kickback](quantum-with-qiskit/Q64_Phase_Kickback.ipynb) &nbsp;|&nbsp;\n",
    "[Entanglement and Superdense Coding](quantum-with-qiskit/Q72_Superdense_Coding.ipynb) &nbsp;|&nbsp;\n",
    "[Quantum Teleportation](quantum-with-qiskit/Q76_Quantum_Teleportation.ipynb) &nbsp;|&nbsp;\n",
    "[Multiple Control Constructions](quantum-with-qiskit/Q80_Multiple_Control_Constructions.ipynb) &nbsp;|&nbsp;\n",
    "[Exercises](quantum-with-qiskit/Exercises_Quantum_Correlation.ipynb)\n",
    "\n",
    "### Grover's search algorithm\n",
    "\n",
    "[Inversion About the Mean](quantum-with-qiskit/Q84_Inversion_About_the_Mean.ipynb) &nbsp;|&nbsp;\n",
    "[Grover's Search: One Qubit Representation](quantum-with-qiskit/Q88_Grovers_Search_One_Qubit_Representation.ipynb) &nbsp;|&nbsp;\n",
    "[Grover's Search: Implementation](quantum-with-qiskit/Q92_Grovers_Search_Implementation.ipynb)"
   ]
  },
  {
   "cell_type": "markdown",
   "id": "784d1084",
   "metadata": {},
   "source": [
    "### Entanglement and protocols\n",
    "\n",
    "[Two Qubits](quantum-with-qiskit/Q60_Two_Qubits.ipynb) &nbsp;|&nbsp;\n",
    "[Phase Kickback](quantum-with-qiskit/Q64_Phase_Kickback.ipynb) &nbsp;|&nbsp;\n",
    "[Entanglement and Superdense Coding](quantum-with-qiskit/Q72_Superdense_Coding.ipynb) &nbsp;|&nbsp;\n",
    "[Quantum Teleportation](quantum-with-qiskit/Q76_Quantum_Teleportation.ipynb) &nbsp;|&nbsp;\n",
    "[Multiple Control Constructions](quantum-with-qiskit/Q80_Multiple_Control_Constructions.ipynb) &nbsp;|&nbsp;\n",
    "[Exercises](quantum-with-qiskit/Exercises_Quantum_Correlation.ipynb)\n",
    "\n",
    "### Grover's search algorithm\n",
    "\n",
    "[Inversion About the Mean](quantum-with-qiskit/Q84_Inversion_About_the_Mean.ipynb) &nbsp;|&nbsp;\n",
    "[Grover's Search: One Qubit Representation](quantum-with-qiskit/Q88_Grovers_Search_One_Qubit_Representation.ipynb) &nbsp;|&nbsp;\n",
    "[Grover's Search: Implementation](quantum-with-qiskit/Q92_Grovers_Search_Implementation.ipynb)"
   ]
  },
  {
   "cell_type": "markdown",
   "id": "13cac1a5",
   "metadata": {},
   "source": [
    "---\n",
    "<h1 style=\"color: #cd7f32;\" align=\"left\"> <mark>Projects</mark> </h1>\n",
    "\n",
    "*Difficulty levels:\n",
    "easy (<font size=\"+1\" color=\"7777ee\">&#9733;</font>), \n",
    "medium (<font size=\"+1\" color=\"7777ee\">&#9733;&#9733;</font>), and\n",
    "hard (<font size=\"+1\" color=\"7777ee\">&#9733;&#9733;&#9733;</font>).*\n",
    "\n",
    "<font size=\"+1\" color=\"7777ee\">&nbsp;&nbsp;&nbsp;&nbsp;&nbsp;&nbsp;&#9733;</font> |\n",
    "[Correlation Game](projects/Project_Correlation_Game.ipynb) *on classical bits*\n",
    "<br>\n",
    "<font size=\"+1\" color=\"7777ee\">&nbsp;&nbsp;&nbsp;&nbsp;&nbsp;&nbsp;&#9733;</font> |\n",
    "[Swapping Quantum States](projects/Project_Swapping_Quantum_States.ipynb) *on qubits*\n",
    "<br>\n",
    "<font size=\"+1\" color=\"7777ee\">&nbsp;&nbsp;&nbsp;&#9734;&#9733;</font> |\n",
    "[Simulating a Real-Valued Qubit](projects/Project_Simulating_a_RealValued_Qubit.ipynb)\n",
    "<br>\n",
    "<font size=\"+1\" color=\"7777ee\">&nbsp;&nbsp;&nbsp;&#9733;&#9733;</font> |\n",
    "[Quantum Tomography with Many Qubits](projects/Project_Quantum_Tomography_with_Many_Qubits.ipynb)\n",
    "<br>\n",
    "<font size=\"+1\" color=\"7777ee\">&nbsp;&nbsp;&nbsp;&#9733;&#9733;</font> |\n",
    "[Implementing Quantum Teleportation](projects/Project_Implementing_Quantum_Teleportation.ipynb)\n",
    "<br>\n",
    "<font size=\"+1\" color=\"7777ee\">&#9734;&#9733;&#9733;</font> |\n",
    "[Communication via Superdense Coding](projects/Project_Communication_via_Superdense_Coding.ipynb)\n",
    "<br>\n",
    "<font size=\"+1\" color=\"7777ee\">&#9733;&#9733;&#9733;</font> |\n",
    "[Your Quantum Simulator](projects/Project_Your_Quantum_Simulator.ipynb)"
   ]
  }
 ],
 "metadata": {
  "kernelspec": {
   "display_name": "Python 3 (ipykernel)",
   "language": "python",
   "name": "python3"
  },
  "language_info": {
   "codemirror_mode": {
    "name": "ipython",
    "version": 3
   },
   "file_extension": ".py",
   "mimetype": "text/x-python",
   "name": "python",
   "nbconvert_exporter": "python",
   "pygments_lexer": "ipython3",
   "version": "3.8.11"
  }
 },
 "nbformat": 4,
 "nbformat_minor": 5
}
