{
 "cells": [
  {
   "cell_type": "markdown",
   "metadata": {},
   "source": [
    "<table width=\"100%\"><tr style=\"background-color:white;\">\n",
    "    <td style=\"text-align:left;padding:0px;width:142px'\">\n",
    "        <a href=\"https://gdsc.community.dev/pakistan-institute-of-engineering-applied-sciences-pieas/\" target=\"_blank\">\n",
    "            <img src=\"../img/GDSC PIEAS vertical color.png\"></a></td>\n",
    "    <td width=\"*\">&nbsp;&nbsp;&nbsp;&nbsp;&nbsp;&nbsp;</td>\n",
    "    <!-- ############################################# -->\n",
    "    <td style=\"text-align:left;padding:0px;width:142px'\">\n",
    "        <a href=\"https://qworld.net/qpakistan/\" target=\"_blank\">\n",
    "            <img src=\"../img/logo_08-removebg-preview.png\"></a></td>\n",
    "    <td width=\"*\">&nbsp;&nbsp;&nbsp;&nbsp;&nbsp;&nbsp;</td>\n",
    "    <!-- ############################################# -->\n",
    "</tr></table>"
   ]
  },
  {
   "cell_type": "markdown",
   "metadata": {},
   "source": [
    "<font style=\"font-size:28px;\" align=\"left\"><b> Exercises for Probabilistic Systems  </b></font>\n"
   ]
  },
  {
   "cell_type": "markdown",
   "metadata": {},
   "source": [
    "Run the following cell to open the exercises.\n",
    "\n",
    "<i><a href=\"https://www.mathjax.org\" target=\"_blank\">MathJax</a> is used to express mathematical expressions and it requires internet connection.</i>\n",
    "<hr>"
   ]
  },
  {
   "cell_type": "code",
   "execution_count": 3,
   "metadata": {},
   "outputs": [
    {
     "data": {
      "text/plain": [
       "True"
      ]
     },
     "execution_count": 3,
     "metadata": {},
     "output_type": "execute_result"
    }
   ],
   "source": [
    "import os, webbrowser\n",
    "webbrowser.open(os.path.abspath(\"Exercises_Probabilistic_Systems.html\"))"
   ]
  }
 ],
 "metadata": {
  "kernelspec": {
   "display_name": "Python 3 (ipykernel)",
   "language": "python",
   "name": "python3"
  },
  "language_info": {
   "codemirror_mode": {
    "name": "ipython",
    "version": 3
   },
   "file_extension": ".py",
   "mimetype": "text/x-python",
   "name": "python",
   "nbconvert_exporter": "python",
   "pygments_lexer": "ipython3",
   "version": "3.8.11"
  }
 },
 "nbformat": 4,
 "nbformat_minor": 2
}
