{
 "cells": [
  {
   "cell_type": "markdown",
   "metadata": {},
   "source": [
    "<a href=\"https://qworld.net\" target=\"_blank\" align=\"left\"><img src=\"../qworld/images/header.jpg\"  align=\"left\"></a>\n",
    "$ \\newcommand{\\bra}[1]{\\langle #1|} $\n",
    "$ \\newcommand{\\ket}[1]{|#1\\rangle} $\n",
    "$ \\newcommand{\\braket}[2]{\\langle #1|#2\\rangle} $\n",
    "$ \\newcommand{\\dot}[2]{ #1 \\cdot #2} $\n",
    "$ \\newcommand{\\biginner}[2]{\\left\\langle #1,#2\\right\\rangle} $\n",
    "$ \\newcommand{\\mymatrix}[2]{\\left( \\begin{array}{#1} #2\\end{array} \\right)} $\n",
    "$ \\newcommand{\\myvector}[1]{\\mymatrix{c}{#1}} $\n",
    "$ \\newcommand{\\myrvector}[1]{\\mymatrix{r}{#1}} $\n",
    "$ \\newcommand{\\mypar}[1]{\\left( #1 \\right)} $\n",
    "$ \\newcommand{\\mybigpar}[1]{ \\Big( #1 \\Big)} $\n",
    "$ \\newcommand{\\sqrttwo}{\\frac{1}{\\sqrt{2}}} $\n",
    "$ \\newcommand{\\dsqrttwo}{\\dfrac{1}{\\sqrt{2}}} $\n",
    "$ \\newcommand{\\onehalf}{\\frac{1}{2}} $\n",
    "$ \\newcommand{\\donehalf}{\\dfrac{1}{2}} $\n",
    "$ \\newcommand{\\hadamard}{ \\mymatrix{rr}{ \\sqrttwo & \\sqrttwo \\\\ \\sqrttwo & -\\sqrttwo }} $\n",
    "$ \\newcommand{\\vzero}{\\myvector{1\\\\0}} $\n",
    "$ \\newcommand{\\vone}{\\myvector{0\\\\1}} $\n",
    "$ \\newcommand{\\stateplus}{\\myvector{ \\sqrttwo \\\\  \\sqrttwo } } $\n",
    "$ \\newcommand{\\stateminus}{ \\myrvector{ \\sqrttwo \\\\ -\\sqrttwo } } $\n",
    "$ \\newcommand{\\myarray}[2]{ \\begin{array}{#1}#2\\end{array}} $\n",
    "$ \\newcommand{\\X}{ \\mymatrix{cc}{0 & 1 \\\\ 1 & 0}  } $\n",
    "$ \\newcommand{\\I}{ \\mymatrix{rr}{1 & 0 \\\\ 0 & 1}  } $\n",
    "$ \\newcommand{\\Z}{ \\mymatrix{rr}{1 & 0 \\\\ 0 & -1}  } $\n",
    "$ \\newcommand{\\Htwo}{ \\mymatrix{rrrr}{ \\frac{1}{2} & \\frac{1}{2} & \\frac{1}{2} & \\frac{1}{2} \\\\ \\frac{1}{2} & -\\frac{1}{2} & \\frac{1}{2} & -\\frac{1}{2} \\\\ \\frac{1}{2} & \\frac{1}{2} & -\\frac{1}{2} & -\\frac{1}{2} \\\\ \\frac{1}{2} & -\\frac{1}{2} & -\\frac{1}{2} & \\frac{1}{2} } } $\n",
    "$ \\newcommand{\\CNOT}{ \\mymatrix{cccc}{1 & 0 & 0 & 0 \\\\ 0 & 1 & 0 & 0 \\\\ 0 & 0 & 0 & 1 \\\\ 0 & 0 & 1 & 0} } $\n",
    "$ \\newcommand{\\norm}[1]{ \\left\\lVert #1 \\right\\rVert } $\n",
    "$ \\newcommand{\\pstate}[1]{ \\lceil \\mspace{-1mu} #1 \\mspace{-1.5mu} \\rfloor } $\n",
    "$ \\newcommand{\\greenbit}[1] {\\mathbf{{\\color{green}#1}}} $\n",
    "$ \\newcommand{\\bluebit}[1] {\\mathbf{{\\color{blue}#1}}} $\n",
    "$ \\newcommand{\\redbit}[1] {\\mathbf{{\\color{red}#1}}} $\n",
    "$ \\newcommand{\\brownbit}[1] {\\mathbf{{\\color{brown}#1}}} $\n",
    "$ \\newcommand{\\blackbit}[1] {\\mathbf{{\\color{black}#1}}} $"
   ]
  },
  {
   "cell_type": "markdown",
   "metadata": {},
   "source": [
    "<font style=\"font-size:28px;\" align=\"left\"><b> Superposition </b></font>\n",
    "<br>\n",
    "_prepared by Abuzer Yakaryilmaz_\n",
    "<br><br>\n",
    "[<img src=\"../qworld/images/watch_lecture.jpg\" align=\"left\">](https://youtu.be/uJZtxWHAlPI)\n",
    "<br><br><br>"
   ]
  },
  {
   "cell_type": "markdown",
   "metadata": {},
   "source": [
    "There is no classical counterpart of the concept \"superposition\".\n",
    "\n",
    "But, we can still use a classical analogy that might help us to give some intuitions.\n",
    "\n",
    "<h3> Probability distribution </h3>\n",
    "\n",
    "Suppose that Asja starts in $ \\myvector{1\\\\0} $ and secretly applies the probabilistic operator $ \\mymatrix{cc}{ 0.3 & 0.6 \\\\ 0.7 & 0.4 } $.\n",
    "\n",
    "Because she applies her operator secretly, our information about her state is probabilistic, which is calculated as\n",
    "\n",
    "$$\n",
    "    \\myvector{0.3 \\\\ 0.7} = \\mymatrix{cc}{ 0.3 & 0.6 \\\\ 0.7 & 0.4 } \\myvector{1\\\\0}.\n",
    "$$\n",
    "\n",
    "Asja is either in state 0 or in state 1.\n",
    "\n",
    "However, from our point of view, Asja is in state 0 with probability $ 0.3 $ and in state 1 with probability $ 0.7 $.\n",
    "\n",
    "We can say that Asja is in a probability distribution of states 0 and 1, being in both states at the same time but with different weights.\n",
    "\n",
    "On the other hand, if we observe Asja's state, then our information about Asja becomes deterministic: either $ \\myvector{1 \\\\ 0} $ or $ \\myvector{0 \\\\ 1} $.\n",
    "\n",
    "We can say that, after observing Asja's state, the probabilistic state $ \\myvector{0.3 \\\\ 0.7}  $ collapses to either $ \\myvector{1 \\\\ 0} $ or $ \\myvector{0 \\\\ 1} $."
   ]
  },
  {
   "cell_type": "markdown",
   "metadata": {},
   "source": [
    "<h3> The third experiment </h3>\n",
    "\n",
    "Remember the following experiment. We trace it step by step by matrix-vector multiplication.\n",
    "\n",
    "<img src=\"../photon/images/photon7.jpg\" width=\"65%\">"
   ]
  },
  {
   "cell_type": "markdown",
   "metadata": {},
   "source": [
    "<b> The initial Step </b>\n",
    "\n",
    "The photon is in state $ \\ket{v_0} = \\vzero $."
   ]
  },
  {
   "cell_type": "markdown",
   "metadata": {},
   "source": [
    "<b> The first step </b>\n",
    "\n",
    "Hadamard is applied:\n",
    "\n",
    "$ \\ket{v_1} = \\hadamard \\vzero = \\stateplus $.\n",
    "\n",
    "At this point, the photon is in a <b>superposition</b> of state $ \\ket{0} $ and state $ \\ket{1} $, <u>being in both states with the amplitudes</u> $ \\frac{1}{\\sqrt{2}} $ and $ \\frac{1}{\\sqrt{2}} $, respectively.\n",
    "\n",
    "The state of photon is $ \\ket{v_1} = \\stateplus $, and we can also represent it as follows: \n",
    "$ \\ket{v_1} =  \\frac{1}{\\sqrt{2}} \\ket{0} + \\frac{1}{\\sqrt{2}} \\ket{1} $."
   ]
  },
  {
   "cell_type": "markdown",
   "metadata": {},
   "source": [
    "<b> The second step </b>\n",
    "\n",
    "Hadamard is applied again:\n",
    "\n",
    "We write the effect of Hadamard on states $ \\ket{0} $ and $ \\ket{1} $ as follows:\n",
    "\n",
    "$ H \\ket{0} = \\frac{1}{\\sqrt{2}} \\ket{0} + \\frac{1}{\\sqrt{2}} \\ket{1} $ &nbsp;&nbsp;&nbsp;&nbsp;&nbsp; <i>(These are the transition amplitudes of the first column.)</i>\n",
    "\n",
    "$ H \\ket{1} = \\frac{1}{\\sqrt{2}} \\ket{0} - \\frac{1}{\\sqrt{2}} \\ket{1} $ &nbsp;&nbsp;&nbsp;&nbsp;&nbsp; <i>(These are the transition amplitudes of the second column.)</i>\n",
    "\n",
    "This representation helps us to see clearly why the state $ \\ket{1} $ disappears.\n",
    "\n",
    "Now, let's see the effect of Hadamard on the quantum state $ \\ket{v_1} =  \\frac{1}{\\sqrt{2}} \\ket{0} + \\frac{1}{\\sqrt{2}} \\ket{1} $:\n",
    "\n",
    "$ \\ket{v_2} = H \\ket{v_1} = H \\mybigpar{ \\frac{1}{\\sqrt{2}} \\ket{0} + \\frac{1}{\\sqrt{2}} \\ket{1} } = \\frac{1}{\\sqrt{2}} H \\ket{0} + \\frac{1}{\\sqrt{2}} H \\ket{1} $\n",
    "\n",
    "We can replace $ H\\ket{0} $ and $ H\\ket{1} $ as described above. $ \\ket{v_2} $ is formed by the summation of the following terms:"
   ]
  },
  {
   "cell_type": "markdown",
   "metadata": {},
   "source": [
    "$~~~~~~~~ \\dsqrttwo H \\ket{0} = $ <font color=\"green\">$\\donehalf \\ket{0} $</font> <font color=\"red\">$ + \\donehalf \\ket{1}  $</font>\n",
    "\n",
    "$~~~~~~~~ \\dsqrttwo H \\ket{1} = $ <font color=\"green\">$\\donehalf \\ket{0} $</font> <font color=\"red\">$ - \\donehalf \\ket{1}  $</font>\n",
    "<br>\n",
    "<font size=\"+1\">$ \\mathbf{+}\\mbox{___________________} $</font>\n",
    "\n",
    "$ ~~ $ <font color=\"green\"> $\\mypar{ \\donehalf+\\donehalf } \\ket{0} $</font> + \n",
    "<font color=\"red\"> $\\mypar{ \\donehalf-\\donehalf }  \\ket{1} $ </font> $ = \\mathbf{\\ket{0}} $.\n",
    "\n",
    "<font color=\"green\">The amplitude of $ \\ket{0} $ becomes 1,</font> <font color=\"red\"> but the amplitude of $ \\ket{1} $ becomes 0 because of cancellation.</font>"
   ]
  },
  {
   "cell_type": "markdown",
   "metadata": {},
   "source": [
    "The photon was in both states at the same time with <u>certain amplitudes</u>.\n",
    "\n",
    "After the second Hadamard, the \"outcomes\" are <u>interfered with each other</u>.\n",
    "\n",
    "The interference can be constructive or destructive.\n",
    "\n",
    "In our examples, <font color=\"green\"><b>the outcome $ \\ket{0} $s are interfered constructively</b></font>, but <font color=\"red\"><b>the outcome $ \\ket{1} $s are interfered destructively</b></font>."
   ]
  },
  {
   "cell_type": "markdown",
   "metadata": {},
   "source": [
    "<h3> Observations </h3>\n",
    "\n",
    "<u>Probabilistic systems</u>: If there is a nonzero transition to a state, then it contributes to the probability of this state positively. \n",
    "\n",
    "<u>Quantum systems</u>: If there is a nonzero transition to a state, then we cannot know its contribution without knowing the other transitions to this state.\n",
    "\n",
    "If it is the only transition, then it contributes to the amplitude (and probability) of the state, and it does not matter whether the sign of the transition is positive or negative.\n",
    "\n",
    "If there is more than one transition, then depending on the summation of all transitions, we can determine whether a specific transition contributes or not.\n",
    "\n",
    "As a simple rule, if the final amplitude of the state and nonzero transition have the same sign, then it is a positive contribution; and, if they have the opposite signs, then it is a negative contribution."
   ]
  },
  {
   "cell_type": "markdown",
   "metadata": {},
   "source": [
    "<h3> Task 1 </h3>\n",
    "\n",
    "[on paper]\n",
    "\n",
    "Start in state $ \\ket{u_0} =  \\ket{1} $.\n",
    "\n",
    "Apply Hadamard operator to $ \\ket{u_0} $, i.e, find $ \\ket{u_1} = H \\ket{u_0} $.\n",
    "\n",
    "Apply Hadamard operator to $\\ket{u_1}$, i.e, find $ \\ket{u_2} = H \\ket{u_1} $.\n",
    "\n",
    "Observe the constructive and destructive interferences, when calculating $ \\ket{u_2} $."
   ]
  },
  {
   "cell_type": "markdown",
   "metadata": {},
   "source": [
    "<h3> Being in a superposition </h3>\n",
    "\n",
    "A quantum system can be in more than one state with nonzero amplitudes.\n",
    "\n",
    "Then, we say that our system is in a superposition of these states.\n",
    "\n",
    "When evolving from a superposition, the resulting transitions may affect each other constructively and destructively. \n",
    "\n",
    "This happens because of having opposite sign transition amplitudes. \n",
    "\n",
    "Otherwise, all nonzero transitions are added up to each other as in probabilistic systems."
   ]
  },
  {
   "cell_type": "markdown",
   "metadata": {},
   "source": [
    "<hr>\n",
    "<h2> Measurement </h2>\n",
    "\n",
    "We can measure a quantum system, and then the system is observed in one of its states. This is the most basic type of measurement in quantum computing. (There are more generic measurement operators, but we will not mention about them.)\n",
    "\n",
    "The probability of the system to be observed in a specified state is the square value of its amplitude.\n",
    "<ul>\n",
    "    <li> If the amplitude of a state is zero, then this state cannot be observed. </li>\n",
    "    <li> If the amplitude of a state is nonzero, then this state can be observed. </li>\n",
    "</ul>\n",
    "\n",
    "For example, if the system is in quantum state \n",
    "\n",
    "$$\n",
    "    \\myrvector{ -\\frac{\\sqrt{2}}{\\sqrt{3}} \\\\ \\frac{1}{\\sqrt{3}} },\n",
    "$$\n",
    "\n",
    "then, after a measurement, we can observe the system in state $\\ket{0} $ with probability $ \\frac{2}{3} $ and in state $\\ket{1}$ with probability $ \\frac{1}{3} $.\n",
    "\n"
   ]
  },
  {
   "cell_type": "markdown",
   "metadata": {},
   "source": [
    "<h4> Collapsing </h4>\n",
    "\n",
    "After the measurement, the system collapses to the observed state, and so the system is no longer in a superposition. Thus, the information kept in a superposition is lost. \n",
    "- In the above example, when the system is observed in state $\\ket{0}$, then the new state becomes $ \\myvector{1 \\\\ 0} $. \n",
    "- If it is observed in state $\\ket{1}$, then the new state becomes $ \\myvector{0 \\\\ 1} $."
   ]
  },
  {
   "cell_type": "markdown",
   "metadata": {},
   "source": [
    "<h3> The second experiment of the quantum coin flipping </h3>"
   ]
  },
  {
   "cell_type": "markdown",
   "metadata": {},
   "source": [
    "Remember the experiment set-up."
   ]
  },
  {
   "cell_type": "markdown",
   "metadata": {},
   "source": [
    "<img src=\"../photon/images/photon5.jpg\" width=\"65%\">"
   ]
  },
  {
   "cell_type": "markdown",
   "metadata": {},
   "source": [
    "In this experiment, after the first quantum coin-flipping, we make a measurement.\n",
    "\n",
    "If the measurement outcome is state $ \\ket{0} $, then we apply a second Hadamard.\n",
    "\n",
    "First, we trace the experiment analytically."
   ]
  },
  {
   "cell_type": "markdown",
   "metadata": {},
   "source": [
    "<table width=\"100%\"><tr>\n",
    "<td width=\"400px\" style=\"background-color:white;text-align:center;vertical-align:middle;\" cellpadding=0>\n",
    "    <img src=\"images/tracing-2nd-exp.png\">\n",
    "    <br><br>\n",
    "    <font size=\"-2\"><a href=\"../images/tracing-2nd-exp.txt\" target=\"_blank\">the tex code of the image</a></font>\n",
    "</td>\n",
    "<td width=\"*\" style=\"background-color:white;text-align:left;vertical-align:top;\">\n",
    "    <b> The first Hadamard </b> \n",
    "    <br><br>\n",
    "    We start in state $ \\ket{0} = \\vzero $. Then, we apply Hadamard operator:\n",
    "    <br><br>\n",
    "    $ \\stateplus = \\hadamard \\vzero $ <hr>\n",
    "    <!---------->\n",
    "    <b> The first measurement </b>\n",
    "    <br><br>\n",
    "    Due to the photon detector A, the photon cannot be in superposition, and so it forces the photon to be observed in state $\\ket{0}$ or state $ \\ket{1} $. This is a measurement.\n",
    "    <br><br>\n",
    "    Since the amplitudes are $ \\sqrttwo $, we observe each state with equal probability.\n",
    "    <br><br>\n",
    "    Thus, with probability $ \\frac{1}{2} $, the new quantum state is $ \\ket{0} = \\vzero $.\n",
    "    <br><br>\n",
    "    And, with probability $ \\frac{1}{2} $, the new quantum state is $ \\ket{1} = \\vone $. <hr>\n",
    "    <!---------->\n",
    "    <b> The second Hadamard </b>\n",
    "    <br><br>\n",
    "    If the photon is in state $ \\ket{0} $, then another Hadamard operator is applied.\n",
    "    <br><br>\n",
    "    In other words, with probability $ \\frac{1}{2} $, the computation continues and another Hadamard is applied:\n",
    "    <br><br>\n",
    "    $ \\stateplus = \\hadamard \\vzero $ <hr>\n",
    "    <b> The second measurement </b>\n",
    "    <br><br>\n",
    "    Due to photon detectors B1 and B2, we make another measurement. \n",
    "    <br><br>\n",
    "    Thus, we observe state $ \\ket{0} $ with probability $ \\frac{1}{4} $ and state $ \\ket{1} $ with probability $ \\frac{1}{4} $.\n",
    "    <br><br>\n",
    "    At the end, the state $ \\ket{0} $ can be observed with probability $ \\frac{1}{4} $, and the state $ \\ket{1} $ can be observed with probability $ \\frac{3}{4} $.\n",
    "</td>\n",
    "</tr></table>"
   ]
  },
  {
   "cell_type": "markdown",
   "metadata": {},
   "source": [
    "<h3> Implementing the second experiment </h3>"
   ]
  },
  {
   "cell_type": "markdown",
   "metadata": {},
   "source": [
    "By using the simulator, we can implement the second experiment.\n",
    "\n",
    "For this purpose, qiskit provides a conditional operator based on the value of a classical register.\n",
    "\n",
    "In the following example, the last operator (x-gate) on the quantum register will be executed if the value of the classical register is 1.\n",
    "\n",
    "    q = QuantumRegister(1)\n",
    "    c = ClassicalRegister(1)\n",
    "    qc = QuantumCircuit(q,c)\n",
    "    ...\n",
    "    qc.measure(q,c)\n",
    "    qc.x(q[0]).c_if(c,1)\n",
    "    \n",
    "In our experiment, we use such classical control after the first measurement."
   ]
  },
  {
   "cell_type": "code",
   "execution_count": 1,
   "metadata": {
    "scrolled": true
   },
   "outputs": [
    {
     "data": {
      "image/png": "[encoded data removed]",
      "text/plain": [
       "<Figure size 314.126x144.48 with 1 Axes>"
      ]
     },
     "metadata": {},
     "output_type": "display_data"
    }
   ],
   "source": [
    "# import all necessary objects and methods for quantum circuits\n",
    "from qiskit import QuantumRegister, ClassicalRegister, QuantumCircuit, execute, Aer\n",
    "\n",
    "# define a quantum register with a single qubit\n",
    "q = QuantumRegister(1,\"q\")\n",
    "# define a classical register with a single bit\n",
    "c = ClassicalRegister(1,\"c\")\n",
    "# define a quantum circuit\n",
    "qc = QuantumCircuit(q,c)\n",
    "\n",
    "# apply the first Hadamard\n",
    "qc.h(q[0])\n",
    "\n",
    "# the first measurement\n",
    "qc.measure(q,c)\n",
    "\n",
    "# apply the second Hadamard if the measurement outcome is 0\n",
    "qc.h(q[0]).c_if(c,0)\n",
    "\n",
    "# the second measurement\n",
    "qc.measure(q[0],c)\n",
    "\n",
    "# draw the circuit\n",
    "display(qc.draw(output=\"mpl\"))"
   ]
  },
  {
   "cell_type": "markdown",
   "metadata": {},
   "source": [
    "<h3> Task 2 </h3>\n",
    "\n",
    "If we execute this circuit 1000 times, what are the expected numbers of observing the outcomes '0' and '1'?\n",
    "\n",
    "Test your result by executing the following code."
   ]
  },
  {
   "cell_type": "code",
   "execution_count": null,
   "metadata": {},
   "outputs": [],
   "source": [
    "job = execute(qc,Aer.get_backend('qasm_simulator'),shots=1000)\n",
    "counts = job.result().get_counts(qc)   \n",
    "print(counts)"
   ]
  },
  {
   "cell_type": "markdown",
   "metadata": {},
   "source": [
    "<h3> Task 3 </h3>\n",
    "\n",
    "Repeat the second experiment with the following modifications.\n",
    "\n",
    "Start in state $ \\ket{1} $.\n",
    "\n",
    "Apply a Hadamard gate.\n",
    "\n",
    "Make a measurement. \n",
    "\n",
    "If the measurement outcome is 0, stop.\n",
    "\n",
    "Otherwise, apply a second Hadamard, and then make a measurement.\n",
    "\n",
    "Execute your circuit 1000 times.\n",
    "\n",
    "Calculate the expected values of observing '0' and '1', and then compare your result with the simulator result."
   ]
  },
  {
   "cell_type": "code",
   "execution_count": null,
   "metadata": {},
   "outputs": [],
   "source": [
    "# import all necessary objects and methods for quantum circuits\n",
    "from qiskit import QuantumRegister, ClassicalRegister, QuantumCircuit, execute, Aer\n",
    "\n",
    "#\n",
    "# your code is here\n",
    "#"
   ]
  },
  {
   "cell_type": "markdown",
   "metadata": {},
   "source": [
    "<a href=\"Q36_Superposition_and_Measurement_Solutions.ipynb#task3\">click for our solution</a>"
   ]
  },
  {
   "cell_type": "markdown",
   "metadata": {},
   "source": [
    "<h3> Task 4 </h3>\n",
    "\n",
    "Design the following quantum circuit.\n",
    "\n",
    "Start in state $ \\ket{0} $.\n",
    "\n",
    "    Repeat 3 times:\n",
    "        if the classical bit is 0:\n",
    "            apply a Hadamard operator\n",
    "        make a measurement\n",
    "\n",
    "Execute your circuit 1000 times.\n",
    "\n",
    "Calculate the expected values of observing '0' and '1', and then compare your result with the simulator result."
   ]
  },
  {
   "cell_type": "code",
   "execution_count": null,
   "metadata": {},
   "outputs": [],
   "source": [
    "# import all necessary objects and methods for quantum circuits\n",
    "from qiskit import QuantumRegister, ClassicalRegister, QuantumCircuit, execute, Aer\n",
    "\n",
    "#\n",
    "# your code is here\n",
    "#"
   ]
  },
  {
   "cell_type": "markdown",
   "metadata": {},
   "source": [
    "<a href=\"Q36_Superposition_and_Measurement_Solutions.ipynb#task4\">click for our solution</a>"
   ]
  },
  {
   "cell_type": "markdown",
   "metadata": {},
   "source": [
    "---\n",
    "\n",
    "<h3> Extra: Task 5 </h3>\n",
    "\n",
    "Design the following randomly created quantum circuit.\n",
    "\n",
    "Start in state $ \\ket{0} $.\n",
    "\n",
    "    apply a Hadamard operator\n",
    "    make a measurement\n",
    "    REPEAT 4 times: \n",
    "        randomly pick x in {0,1}\n",
    "        if the classical bit is x:\n",
    "            apply a Hadamard operator\n",
    "        make a measurement\n",
    "        \n",
    "Draw your circuit, and guess the expected frequency of observing '0' and '1' if the circuit is executed 10000 times.\n",
    "\n",
    "Then, execute your circuit 10000 times, and compare your result with the simulator result.\n",
    "\n",
    "Repeat execution a few more times."
   ]
  },
  {
   "cell_type": "code",
   "execution_count": null,
   "metadata": {},
   "outputs": [],
   "source": [
    "# import all necessary objects and methods for quantum circuits\n",
    "from qiskit import QuantumRegister, ClassicalRegister, QuantumCircuit, execute, Aer\n",
    "# import randrange for random choices\n",
    "from random import randrange\n",
    "\n",
    "#\n",
    "# your code is here\n",
    "#"
   ]
  },
  {
   "cell_type": "markdown",
   "metadata": {},
   "source": [
    "<a href=\"Q36_Superposition_and_Measurement_Solutions.ipynb#task5\">click for our solution</a>"
   ]
  }
 ],
 "metadata": {
  "kernelspec": {
   "display_name": "Python 3 (ipykernel)",
   "language": "python",
   "name": "python3"
  },
  "language_info": {
   "codemirror_mode": {
    "name": "ipython",
    "version": 3
   },
   "file_extension": ".py",
   "mimetype": "text/x-python",
   "name": "python",
   "nbconvert_exporter": "python",
   "pygments_lexer": "ipython3",
   "version": "3.8.11"
  }
 },
 "nbformat": 4,
 "nbformat_minor": 2
}
